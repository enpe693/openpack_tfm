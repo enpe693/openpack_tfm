{
 "cells": [
  {
   "cell_type": "code",
   "execution_count": 1,
   "id": "4d6230ff",
   "metadata": {},
   "outputs": [
    {
     "name": "stderr",
     "output_type": "stream",
     "text": [
      "C:\\Users\\Ego\\anaconda3\\envs\\pytorchenv3\\lib\\site-packages\\tqdm\\auto.py:21: TqdmWarning: IProgress not found. Please update jupyter and ipywidgets. See https://ipywidgets.readthedocs.io/en/stable/user_install.html\n",
      "  from .autonotebook import tqdm as notebook_tqdm\n"
     ]
    }
   ],
   "source": [
    "import os\n",
    "import shutil\n",
    "import logging\n",
    "from pathlib import Path\n",
    "from typing import Dict, List, Optional, Tuple\n",
    "\n",
    "import hydra\n",
    "import numpy as np\n",
    "import openpack_toolkit as optk\n",
    "import openpack_torch as optorch\n",
    "import pandas as pd\n",
    "from omegaconf import DictConfig, OmegaConf\n",
    "\n",
    "from openpack_toolkit import OPENPACK_OPERATIONS"
   ]
  },
  {
   "cell_type": "code",
   "execution_count": 2,
   "id": "af75165f",
   "metadata": {},
   "outputs": [],
   "source": [
    "optorch.configs.register_configs()"
   ]
  },
  {
   "cell_type": "code",
   "execution_count": 4,
   "id": "eff37464",
   "metadata": {},
   "outputs": [],
   "source": [
    "#add local path\n",
    "with hydra.initialize_config_dir(version_base=None, config_dir=\"C:\\\\...\\\\configs\"):\n",
    "    cfg = hydra.compose(\n",
    "        # config_name=\"unet.yaml\",\n",
    "        config_name=\"config.yaml\",\n",
    "    )    \n",
    "cfg.dataset.annotation.activity_sets = dict() # Remove this attribute just for the simpler visualization.\n",
    "cfg.dataset.split = optk.configs.datasets.splits.DEBUG_SPLIT"
   ]
  },
  {
   "cell_type": "code",
   "execution_count": 5,
   "id": "2adb3cc9",
   "metadata": {},
   "outputs": [
    {
     "name": "stdout",
     "output_type": "stream",
     "text": [
      "name: all-devices\n",
      "description: All devices stream.\n",
      "super_stream: null\n",
      "path_imu:\n",
      "  dir: ${path.openpack.rootdir}/${user.name}/atr/${device}\n",
      "  fname: ${session}.csv\n",
      "frame_rate_imu: 30\n",
      "devices:\n",
      "- atr01\n",
      "- atr02\n",
      "- atr03\n",
      "- atr04\n",
      "acc: true\n",
      "gyro: false\n",
      "quat: false\n",
      "imu_dim: 12\n",
      "min_value_imu_acc: -4\n",
      "max_value_imu_acc: 4\n",
      "min_value_imu_gyro: -2000\n",
      "max_value_imu_gyro: 2000\n",
      "path_keypoint:\n",
      "  dir: ${path.openpack.rootdir}/${user.name}/kinect/${..category}/${..model}/single\n",
      "  fname: ${session}.json\n",
      "frame_rate_keypoint: 15\n",
      "category: 2d-kpt\n",
      "model: mmpose-hrnet-w48-posetrack18-384x288-posewarper-stage2\n",
      "nodes:\n",
      "  0: nose\n",
      "  1: left_eye\n",
      "  2: right_eye\n",
      "  3: left_ear\n",
      "  4: right_ear\n",
      "  5: left_shoulder\n",
      "  6: right_shoulder\n",
      "  7: left_elbow\n",
      "  8: right_elbow\n",
      "  9: left_wrist\n",
      "  10: right_wrist\n",
      "  11: left_hip\n",
      "  12: right_hip\n",
      "  13: left_knee\n",
      "  14: right_knee\n",
      "  15: left_ankle\n",
      "  16: right_ankle\n",
      "keypoint_dim: 34\n",
      "min_value_keypoint: 0\n",
      "max_value_keypoint: 1280\n",
      "\n"
     ]
    }
   ],
   "source": [
    "print(OmegaConf.to_yaml(cfg.dataset.stream))"
   ]
  },
  {
   "cell_type": "code",
   "execution_count": null,
   "id": "4468d7ce",
   "metadata": {},
   "outputs": [],
   "source": [
    "import sys\n",
    "sys.path.append('../')\n",
    "from utils.datasets import OpenPackAll\n",
    "class OpenPackAllDataModule(optorch.data.OpenPackBaseDataModule):\n",
    "    dataset_class = OpenPackAll\n",
    "\n",
    "    def get_kwargs_for_datasets(self, stage: Optional[str] = None) -> Dict:\n",
    "        kwargs = {\n",
    "            \"window\": self.cfg.train.window,\n",
    "            \"debug\": self.cfg.debug,\n",
    "        }\n",
    "        return kwargs\n"
   ]
  },
  {
   "cell_type": "code",
   "execution_count": null,
   "id": "a08ccb90",
   "metadata": {},
   "outputs": [],
   "source": [
    "datamodule = OpenPackAllDataModule(cfg)\n",
    "datamodule.setup(\"test\")\n",
    "dataloaders = datamodule.test_dataloader()\n",
    "\n",
    "batch = dataloaders[0].dataset.__getitem__(0)\n",
    "print(batch.keys())"
   ]
  },
  {
   "cell_type": "code",
   "execution_count": null,
   "id": "f6182e09",
   "metadata": {},
   "outputs": [],
   "source": [
    "torch.cuda.is_available()"
   ]
  },
  {
   "cell_type": "code",
   "execution_count": null,
   "id": "22ddb472",
   "metadata": {},
   "outputs": [],
   "source": []
  }
 ],
 "metadata": {
  "kernelspec": {
   "display_name": "pytorchenv3",
   "language": "python",
   "name": "pytorchenv3"
  },
  "language_info": {
   "codemirror_mode": {
    "name": "ipython",
    "version": 3
   },
   "file_extension": ".py",
   "mimetype": "text/x-python",
   "name": "python",
   "nbconvert_exporter": "python",
   "pygments_lexer": "ipython3",
   "version": "3.10.12"
  }
 },
 "nbformat": 4,
 "nbformat_minor": 5
}
