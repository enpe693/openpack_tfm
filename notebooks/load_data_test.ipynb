{
 "cells": [
  {
   "cell_type": "code",
   "execution_count": 1,
   "id": "4d6230ff",
   "metadata": {},
   "outputs": [
    {
     "name": "stderr",
     "output_type": "stream",
     "text": [
      "C:\\Users\\Ego\\anaconda3\\envs\\pytorchenv3\\lib\\site-packages\\tqdm\\auto.py:21: TqdmWarning: IProgress not found. Please update jupyter and ipywidgets. See https://ipywidgets.readthedocs.io/en/stable/user_install.html\n",
      "  from .autonotebook import tqdm as notebook_tqdm\n"
     ]
    }
   ],
   "source": [
    "import os\n",
    "import shutil\n",
    "import logging\n",
    "from pathlib import Path\n",
    "from typing import Dict, List, Optional, Tuple\n",
    "\n",
    "import hydra\n",
    "import numpy as np\n",
    "import openpack_toolkit as optk\n",
    "import openpack_torch as optorch\n",
    "import pandas as pd\n",
    "from omegaconf import DictConfig, OmegaConf\n",
    "\n",
    "from openpack_toolkit import OPENPACK_OPERATIONS"
   ]
  },
  {
   "cell_type": "code",
   "execution_count": 2,
   "id": "af75165f",
   "metadata": {},
   "outputs": [],
   "source": [
    "optorch.configs.register_configs()"
   ]
  },
  {
   "cell_type": "code",
   "execution_count": 3,
   "id": "eff37464",
   "metadata": {},
   "outputs": [],
   "source": [
    "with hydra.initialize_config_dir(version_base=None, config_dir=\"C:\\\\Users\\\\Ego\\\\Documents\\\\TFM\\\\repo\\\\tfm1\\\\config\"):\n",
    "    cfg = hydra.compose(\n",
    "        # config_name=\"unet.yaml\",\n",
    "        config_name=\"config.yaml\",\n",
    "    )    \n",
    "cfg.dataset.annotation.activity_sets = dict() # Remove this attribute just for the simpler visualization.\n",
    "cfg.dataset.split = optk.configs.datasets.splits.DEBUG_SPLIT"
   ]
  },
  {
   "cell_type": "code",
   "execution_count": 4,
   "id": "2adb3cc9",
   "metadata": {},
   "outputs": [
    {
     "name": "stdout",
     "output_type": "stream",
     "text": [
      "name: all-devices\n",
      "description: All devices stream.\n",
      "super_stream: null\n",
      "path_imu:\n",
      "  dir: ${path.openpack.rootdir}/${user.name}/atr/${device}\n",
      "  fname: ${session}.csv\n",
      "frame_rate_imu: 30\n",
      "devices:\n",
      "- atr01\n",
      "- atr02\n",
      "- atr03\n",
      "- atr04\n",
      "acc: true\n",
      "gyro: false\n",
      "quat: false\n",
      "imu_dim: 12\n",
      "min_value_imu_acc: -4\n",
      "max_value_imu_acc: 4\n",
      "min_value_imu_gyro: -2000\n",
      "max_value_imu_gyro: 2000\n",
      "path_keypoint:\n",
      "  dir: ${path.openpack.rootdir}/${user.name}/kinect/${..category}/${..model}/single\n",
      "  fname: ${session}.json\n",
      "frame_rate_keypoint: 15\n",
      "category: 2d-kpt\n",
      "model: mmpose-hrnet-w48-posetrack18-384x288-posewarper-stage2\n",
      "nodes:\n",
      "  0: nose\n",
      "  1: left_eye\n",
      "  2: right_eye\n",
      "  3: left_ear\n",
      "  4: right_ear\n",
      "  5: left_shoulder\n",
      "  6: right_shoulder\n",
      "  7: left_elbow\n",
      "  8: right_elbow\n",
      "  9: left_wrist\n",
      "  10: right_wrist\n",
      "  11: left_hip\n",
      "  12: right_hip\n",
      "  13: left_knee\n",
      "  14: right_knee\n",
      "  15: left_ankle\n",
      "  16: right_ankle\n",
      "keypoint_dim: 34\n",
      "min_value_keypoint: 0\n",
      "max_value_keypoint: 1280\n",
      "\n"
     ]
    }
   ],
   "source": [
    "print(OmegaConf.to_yaml(cfg.dataset.stream))"
   ]
  },
  {
   "cell_type": "code",
   "execution_count": 5,
   "id": "4468d7ce",
   "metadata": {},
   "outputs": [],
   "source": [
    "import sys\n",
    "sys.path.append('../')\n",
    "from utils.datasets import OpenPackAll\n",
    "class OpenPackAllDataModule(optorch.data.OpenPackBaseDataModule):\n",
    "    dataset_class = OpenPackAll\n",
    "\n",
    "    def get_kwargs_for_datasets(self, stage: Optional[str] = None) -> Dict:\n",
    "        kwargs = {\n",
    "            \"window\": self.cfg.train.window,\n",
    "            \"debug\": self.cfg.debug,\n",
    "        }\n",
    "        return kwargs\n"
   ]
  },
  {
   "cell_type": "code",
   "execution_count": 6,
   "id": "a08ccb90",
   "metadata": {},
   "outputs": [
    {
     "name": "stdout",
     "output_type": "stream",
     "text": [
      "Shape of x keypoints: (2, 27377, 17)\n",
      "Shape of t keypoints: (27377,)\n",
      "Shape of x keypoints: (27377, 34)\n",
      "Shape of x imu: (55272, 12)\n",
      "Shape of t imu: (55272,)\n",
      "First t imu entries [1634885785026 1634885785059 1634885785092 ... 1634887608903 1634887608936\n",
      " 1634887608969]\n",
      "First t keypoints entries [1634885784059 1634885784126 1634885784192 ... 1634887609837 1634887609903\n",
      " 1634887609970]\n",
      "(55272, 47)\n",
      "      0_x     1_x     2_x     3_x     4_x     5_x     6_x     7_x     8_x  \\\n",
      "0  0.5318  0.7782  0.2276  0.3159 -0.7739  0.1986 -0.1385  1.0100 -0.0305   \n",
      "1  0.5589  0.7714  0.2073  0.3132 -0.8086  0.2437 -0.1353  0.9929 -0.0319   \n",
      "2  0.5680  0.7787  0.1800  0.3144 -0.8562  0.2772 -0.1356  0.9812 -0.0478   \n",
      "3  0.5670  0.8324  0.2005  0.2864 -0.8574  0.3009 -0.1397  0.9670 -0.0385   \n",
      "4  0.5946  0.8991  0.2110  0.2654 -0.8530  0.3531 -0.1497  0.9704 -0.0307   \n",
      "\n",
      "      9_x  ...     24     25     26     27     28     29     30     31     32  \\\n",
      "0  0.1779  ...  572.3  596.8  629.0  676.9  569.1  676.9  640.7  669.4  559.5   \n",
      "1  0.1398  ...  573.3  598.7  630.1  681.1  581.9  677.9  644.0  675.8  556.2   \n",
      "2  0.1088  ...  573.3  598.7  630.1  681.1  581.9  677.9  644.0  675.8  556.2   \n",
      "3  0.0371  ...  573.3  598.7  630.1  681.1  581.9  677.9  644.0  675.8  556.2   \n",
      "4 -0.0231  ...  576.4  593.5  626.0  679.1  566.9  679.1  639.8  671.7  550.0   \n",
      "\n",
      "      33  \n",
      "0  609.6  \n",
      "1  618.0  \n",
      "2  618.0  \n",
      "3  618.0  \n",
      "4  679.1  \n",
      "\n",
      "[5 rows x 47 columns]\n"
     ]
    },
    {
     "name": "stderr",
     "output_type": "stream",
     "text": [
      "No preprocessing is applied.\n"
     ]
    },
    {
     "name": "stdout",
     "output_type": "stream",
     "text": [
      "IMU time 0        0\n",
      "1        0\n",
      "2        0\n",
      "3        0\n",
      "4        0\n",
      "        ..\n",
      "55267    0\n",
      "55268    0\n",
      "55269    0\n",
      "55270    0\n",
      "55271    0\n",
      "Name: annot_time, Length: 55272, dtype: int64\n",
      "Keypoints time 0        0\n",
      "1        0\n",
      "2        0\n",
      "3        0\n",
      "4        0\n",
      "        ..\n",
      "27372    0\n",
      "27373    0\n",
      "27374    0\n",
      "27375    0\n",
      "27376    0\n",
      "Name: annot_time, Length: 27377, dtype: int64\n",
      "Shape of the merged array: (55272, 46)\n",
      "dict_keys(['x', 't', 'ts'])\n"
     ]
    }
   ],
   "source": [
    "datamodule = OpenPackAllDataModule(cfg)\n",
    "datamodule.setup(\"test\")\n",
    "dataloaders = datamodule.test_dataloader()\n",
    "\n",
    "batch = dataloaders[0].dataset.__getitem__(0)\n",
    "print(batch.keys())"
   ]
  },
  {
   "cell_type": "code",
   "execution_count": 7,
   "id": "f6182e09",
   "metadata": {},
   "outputs": [
    {
     "ename": "SyntaxError",
     "evalue": "invalid syntax (3628055297.py, line 1)",
     "output_type": "error",
     "traceback": [
      "\u001b[1;36m  Cell \u001b[1;32mIn[7], line 1\u001b[1;36m\u001b[0m\n\u001b[1;33m    datamodule.\u001b[0m\n\u001b[1;37m               ^\u001b[0m\n\u001b[1;31mSyntaxError\u001b[0m\u001b[1;31m:\u001b[0m invalid syntax\n"
     ]
    }
   ],
   "source": []
  }
 ],
 "metadata": {
  "kernelspec": {
   "display_name": "pytorchenv3",
   "language": "python",
   "name": "pytorchenv3"
  },
  "language_info": {
   "codemirror_mode": {
    "name": "ipython",
    "version": 3
   },
   "file_extension": ".py",
   "mimetype": "text/x-python",
   "name": "python",
   "nbconvert_exporter": "python",
   "pygments_lexer": "ipython3",
   "version": "3.10.12"
  }
 },
 "nbformat": 4,
 "nbformat_minor": 5
}
