{
 "cells": [
  {
   "cell_type": "code",
   "execution_count": 1,
   "id": "4d6230ff",
   "metadata": {},
   "outputs": [
    {
     "name": "stderr",
     "output_type": "stream",
     "text": [
      "C:\\Users\\Ego\\anaconda3\\envs\\pytorchenv3\\lib\\site-packages\\tqdm\\auto.py:21: TqdmWarning: IProgress not found. Please update jupyter and ipywidgets. See https://ipywidgets.readthedocs.io/en/stable/user_install.html\n",
      "  from .autonotebook import tqdm as notebook_tqdm\n"
     ]
    }
   ],
   "source": [
    "import os\n",
    "import shutil\n",
    "import logging\n",
    "from pathlib import Path\n",
    "from typing import Dict, List, Optional, Tuple\n",
    "\n",
    "import hydra\n",
    "import numpy as np\n",
    "import openpack_toolkit as optk\n",
    "import openpack_torch as optorch\n",
    "import pandas as pd\n",
    "from omegaconf import DictConfig, OmegaConf\n",
    "\n",
    "from openpack_toolkit import OPENPACK_OPERATIONS"
   ]
  },
  {
   "cell_type": "code",
   "execution_count": 2,
   "id": "af75165f",
   "metadata": {},
   "outputs": [],
   "source": [
    "optorch.configs.register_configs()"
   ]
  },
  {
   "cell_type": "code",
   "execution_count": 3,
   "id": "eff37464",
   "metadata": {},
   "outputs": [],
   "source": [
    "with hydra.initialize_config_dir(version_base=None, config_dir=\"C:\\\\Users\\\\Ego\\\\Documents\\\\TFM\\\\repo\\\\tfm1\\\\config\"):\n",
    "    cfg = hydra.compose(\n",
    "        # config_name=\"unet.yaml\",\n",
    "        config_name=\"config.yaml\",\n",
    "    )    \n",
    "cfg.dataset.annotation.activity_sets = dict() # Remove this attribute just for the simpler visualization.\n",
    "cfg.dataset.split = optk.configs.datasets.splits.DEBUG_SPLIT"
   ]
  },
  {
   "cell_type": "code",
   "execution_count": 4,
   "id": "2adb3cc9",
   "metadata": {},
   "outputs": [
    {
     "name": "stdout",
     "output_type": "stream",
     "text": [
      "name: all-devices\n",
      "description: All devices stream.\n",
      "super_stream: null\n",
      "path_imu:\n",
      "  dir: ${path.openpack.rootdir}/${user.name}/atr/${device}\n",
      "  fname: ${session}.csv\n",
      "frame_rate_imu: 30\n",
      "devices:\n",
      "- atr01\n",
      "- atr02\n",
      "- atr03\n",
      "- atr04\n",
      "acc: true\n",
      "gyro: false\n",
      "quat: false\n",
      "imu_dim: 12\n",
      "min_value_imu_acc: -4\n",
      "max_value_imu_acc: 4\n",
      "min_value_imu_gyro: -2000\n",
      "max_value_imu_gyro: 2000\n",
      "path_keypoint:\n",
      "  dir: ${path.openpack.rootdir}/${user.name}/kinect/${..category}/${..model}/single\n",
      "  fname: ${session}.json\n",
      "frame_rate_keypoint: 15\n",
      "category: 2d-kpt\n",
      "model: mmpose-hrnet-w48-posetrack18-384x288-posewarper-stage2\n",
      "nodes:\n",
      "  0: nose\n",
      "  1: left_eye\n",
      "  2: right_eye\n",
      "  3: left_ear\n",
      "  4: right_ear\n",
      "  5: left_shoulder\n",
      "  6: right_shoulder\n",
      "  7: left_elbow\n",
      "  8: right_elbow\n",
      "  9: left_wrist\n",
      "  10: right_wrist\n",
      "  11: left_hip\n",
      "  12: right_hip\n",
      "  13: left_knee\n",
      "  14: right_knee\n",
      "  15: left_ankle\n",
      "  16: right_ankle\n",
      "keypoint_dim: 34\n",
      "min_value_keypoint: 0\n",
      "max_value_keypoint: 1280\n",
      "\n"
     ]
    }
   ],
   "source": [
    "print(OmegaConf.to_yaml(cfg.dataset.stream))"
   ]
  },
  {
   "cell_type": "code",
   "execution_count": 6,
   "id": "4468d7ce",
   "metadata": {},
   "outputs": [],
   "source": [
    "import sys\n",
    "sys.path.append('../')\n",
    "from utils.datasets import OpenPackAll\n",
    "class OpenPackAllDataModule(optorch.data.OpenPackBaseDataModule):\n",
    "    dataset_class = OpenPackAll\n",
    "\n",
    "    def get_kwargs_for_datasets(self, stage: Optional[str] = None) -> Dict:\n",
    "        kwargs = {\n",
    "            \"window\": self.cfg.train.window,\n",
    "            \"debug\": self.cfg.debug,\n",
    "        }\n",
    "        return kwargs\n"
   ]
  },
  {
   "cell_type": "code",
   "execution_count": 7,
   "id": "a08ccb90",
   "metadata": {},
   "outputs": [
    {
     "name": "stdout",
     "output_type": "stream",
     "text": [
      "Shape of x keypoints: (2, 27377, 17)\n",
      "Shape of t keypoints: (27377,)\n",
      "Shape of x imu: (12, 55272)\n",
      "Shape of t imu: (55272,)\n"
     ]
    },
    {
     "ename": "TypeError",
     "evalue": "OpenPackAll.create_pd_from_data() takes 2 positional arguments but 3 were given",
     "output_type": "error",
     "traceback": [
      "\u001b[1;31m---------------------------------------------------------------------------\u001b[0m",
      "\u001b[1;31mTypeError\u001b[0m                                 Traceback (most recent call last)",
      "Cell \u001b[1;32mIn[7], line 2\u001b[0m\n\u001b[0;32m      1\u001b[0m datamodule \u001b[38;5;241m=\u001b[39m OpenPackAllDataModule(cfg)\n\u001b[1;32m----> 2\u001b[0m \u001b[43mdatamodule\u001b[49m\u001b[38;5;241;43m.\u001b[39;49m\u001b[43msetup\u001b[49m\u001b[43m(\u001b[49m\u001b[38;5;124;43m\"\u001b[39;49m\u001b[38;5;124;43mtest\u001b[39;49m\u001b[38;5;124;43m\"\u001b[39;49m\u001b[43m)\u001b[49m\n\u001b[0;32m      3\u001b[0m dataloaders \u001b[38;5;241m=\u001b[39m datamodule\u001b[38;5;241m.\u001b[39mtest_dataloader()\n\u001b[0;32m      5\u001b[0m batch \u001b[38;5;241m=\u001b[39m dataloaders[\u001b[38;5;241m0\u001b[39m]\u001b[38;5;241m.\u001b[39mdataset\u001b[38;5;241m.\u001b[39m\u001b[38;5;21m__getitem__\u001b[39m(\u001b[38;5;241m0\u001b[39m)\n",
      "File \u001b[1;32m~\\anaconda3\\envs\\pytorchenv3\\lib\\site-packages\\openpack_torch\\data\\datamodule.py:105\u001b[0m, in \u001b[0;36mOpenPackBaseDataModule.setup\u001b[1;34m(self, stage)\u001b[0m\n\u001b[0;32m    103\u001b[0m \u001b[38;5;28;01mif\u001b[39;00m stage \u001b[38;5;129;01min\u001b[39;00m (\u001b[38;5;28;01mNone\u001b[39;00m, \u001b[38;5;124m\"\u001b[39m\u001b[38;5;124mtest\u001b[39m\u001b[38;5;124m\"\u001b[39m):\n\u001b[0;32m    104\u001b[0m     kwargs \u001b[38;5;241m=\u001b[39m \u001b[38;5;28mself\u001b[39m\u001b[38;5;241m.\u001b[39mget_kwargs_for_datasets(stage\u001b[38;5;241m=\u001b[39m\u001b[38;5;124m\"\u001b[39m\u001b[38;5;124mtest\u001b[39m\u001b[38;5;124m\"\u001b[39m)\n\u001b[1;32m--> 105\u001b[0m     \u001b[38;5;28mself\u001b[39m\u001b[38;5;241m.\u001b[39mop_test \u001b[38;5;241m=\u001b[39m \u001b[38;5;28;43mself\u001b[39;49m\u001b[38;5;241;43m.\u001b[39;49m\u001b[43m_init_datasets\u001b[49m\u001b[43m(\u001b[49m\u001b[43msplit\u001b[49m\u001b[38;5;241;43m.\u001b[39;49m\u001b[43mtest\u001b[49m\u001b[43m,\u001b[49m\u001b[43m \u001b[49m\u001b[43mkwargs\u001b[49m\u001b[43m)\u001b[49m\n\u001b[0;32m    106\u001b[0m \u001b[38;5;28;01melse\u001b[39;00m:\n\u001b[0;32m    107\u001b[0m     \u001b[38;5;28mself\u001b[39m\u001b[38;5;241m.\u001b[39mop_test \u001b[38;5;241m=\u001b[39m \u001b[38;5;28;01mNone\u001b[39;00m\n",
      "File \u001b[1;32m~\\anaconda3\\envs\\pytorchenv3\\lib\\site-packages\\openpack_torch\\data\\datamodule.py:84\u001b[0m, in \u001b[0;36mOpenPackBaseDataModule._init_datasets\u001b[1;34m(self, user_session, kwargs)\u001b[0m\n\u001b[0;32m     82\u001b[0m \u001b[38;5;28;01mfor\u001b[39;00m user, session \u001b[38;5;129;01min\u001b[39;00m user_session:\n\u001b[0;32m     83\u001b[0m     key \u001b[38;5;241m=\u001b[39m \u001b[38;5;124mf\u001b[39m\u001b[38;5;124m\"\u001b[39m\u001b[38;5;132;01m{\u001b[39;00muser\u001b[38;5;132;01m}\u001b[39;00m\u001b[38;5;124m-\u001b[39m\u001b[38;5;132;01m{\u001b[39;00msession\u001b[38;5;132;01m}\u001b[39;00m\u001b[38;5;124m\"\u001b[39m\n\u001b[1;32m---> 84\u001b[0m     datasets[key] \u001b[38;5;241m=\u001b[39m \u001b[38;5;28mself\u001b[39m\u001b[38;5;241m.\u001b[39mdataset_class(\n\u001b[0;32m     85\u001b[0m         copy\u001b[38;5;241m.\u001b[39mdeepcopy(\u001b[38;5;28mself\u001b[39m\u001b[38;5;241m.\u001b[39mcfg), [(user, session)], \u001b[38;5;241m*\u001b[39m\u001b[38;5;241m*\u001b[39mkwargs)\n\u001b[0;32m     86\u001b[0m \u001b[38;5;28;01mreturn\u001b[39;00m datasets\n",
      "File \u001b[1;32m~\\Documents\\TFM\\repo\\tfm1\\notebooks\\..\\utils\\datasets.py:72\u001b[0m, in \u001b[0;36mOpenPackAll.__init__\u001b[1;34m(self, cfg, user_session_list, classes, window, window_keypoint, submission, debug)\u001b[0m\n\u001b[0;32m     69\u001b[0m \u001b[38;5;28mself\u001b[39m\u001b[38;5;241m.\u001b[39msubmission \u001b[38;5;241m=\u001b[39m submission\n\u001b[0;32m     70\u001b[0m \u001b[38;5;28mself\u001b[39m\u001b[38;5;241m.\u001b[39mdebug \u001b[38;5;241m=\u001b[39m debug\n\u001b[1;32m---> 72\u001b[0m \u001b[38;5;28;43mself\u001b[39;49m\u001b[38;5;241;43m.\u001b[39;49m\u001b[43mload_dataset\u001b[49m\u001b[43m(\u001b[49m\n\u001b[0;32m     73\u001b[0m \u001b[43m    \u001b[49m\u001b[43mcfg\u001b[49m\u001b[43m,\u001b[49m\n\u001b[0;32m     74\u001b[0m \u001b[43m    \u001b[49m\u001b[43muser_session_list\u001b[49m\u001b[43m,\u001b[49m\n\u001b[0;32m     75\u001b[0m \u001b[43m    \u001b[49m\u001b[43mwindow\u001b[49m\u001b[43m,\u001b[49m\n\u001b[0;32m     76\u001b[0m \u001b[43m    \u001b[49m\u001b[43msubmission\u001b[49m\u001b[38;5;241;43m=\u001b[39;49m\u001b[43msubmission\u001b[49m\u001b[43m)\u001b[49m\n\u001b[0;32m     78\u001b[0m \u001b[38;5;28mself\u001b[39m\u001b[38;5;241m.\u001b[39mpreprocessing()\n",
      "File \u001b[1;32m~\\Documents\\TFM\\repo\\tfm1\\notebooks\\..\\utils\\datasets.py:141\u001b[0m, in \u001b[0;36mOpenPackAll.load_dataset\u001b[1;34m(self, cfg, user_session_list, window, submission)\u001b[0m\n\u001b[0;32m    138\u001b[0m \u001b[38;5;28mprint\u001b[39m(\u001b[38;5;124m\"\u001b[39m\u001b[38;5;124mShape of x imu:\u001b[39m\u001b[38;5;124m\"\u001b[39m, x_sess_imu\u001b[38;5;241m.\u001b[39mshape)\n\u001b[0;32m    139\u001b[0m \u001b[38;5;28mprint\u001b[39m(\u001b[38;5;124m\"\u001b[39m\u001b[38;5;124mShape of t imu:\u001b[39m\u001b[38;5;124m\"\u001b[39m, ts_sess_imu\u001b[38;5;241m.\u001b[39mshape)   \n\u001b[1;32m--> 141\u001b[0m imu_pd \u001b[38;5;241m=\u001b[39m \u001b[38;5;28;43mself\u001b[39;49m\u001b[38;5;241;43m.\u001b[39;49m\u001b[43mcreate_pd_from_data\u001b[49m\u001b[43m(\u001b[49m\u001b[43mx_sess_imu\u001b[49m\u001b[43m,\u001b[49m\u001b[43m \u001b[49m\u001b[43mts_sess_imu\u001b[49m\u001b[43m)\u001b[49m\n\u001b[0;32m    142\u001b[0m keypoints_pd \u001b[38;5;241m=\u001b[39m \u001b[38;5;28mself\u001b[39m\u001b[38;5;241m.\u001b[39mcreate_pd_from_data(x_sess_keypoints, ts_sess_keypoints)\n\u001b[0;32m    143\u001b[0m merged_pd \u001b[38;5;241m=\u001b[39m \u001b[38;5;28mself\u001b[39m\u001b[38;5;241m.\u001b[39mmerge_pds(imu_pd, keypoints_pd)\n",
      "\u001b[1;31mTypeError\u001b[0m: OpenPackAll.create_pd_from_data() takes 2 positional arguments but 3 were given"
     ]
    }
   ],
   "source": [
    "datamodule = OpenPackAllDataModule(cfg)\n",
    "datamodule.setup(\"test\")\n",
    "dataloaders = datamodule.test_dataloader()\n",
    "\n",
    "batch = dataloaders[0].dataset.__getitem__(0)\n",
    "print(batch.keys())"
   ]
  },
  {
   "cell_type": "code",
   "execution_count": null,
   "id": "f6182e09",
   "metadata": {},
   "outputs": [],
   "source": [
    "datamodule."
   ]
  }
 ],
 "metadata": {
  "kernelspec": {
   "display_name": "pytorchenv3",
   "language": "python",
   "name": "pytorchenv3"
  },
  "language_info": {
   "codemirror_mode": {
    "name": "ipython",
    "version": 3
   },
   "file_extension": ".py",
   "mimetype": "text/x-python",
   "name": "python",
   "nbconvert_exporter": "python",
   "pygments_lexer": "ipython3",
   "version": "3.10.12"
  }
 },
 "nbformat": 4,
 "nbformat_minor": 5
}
